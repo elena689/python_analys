{
 "cells": [
  {
   "cell_type": "markdown",
   "id": "183a821a",
   "metadata": {},
   "source": [
    "## Задание 1"
   ]
  },
  {
   "cell_type": "markdown",
   "id": "15a93b5f",
   "metadata": {},
   "source": [
    "### 1.1"
   ]
  },
  {
   "cell_type": "code",
   "execution_count": 3,
   "id": "fd5c2061",
   "metadata": {},
   "outputs": [],
   "source": [
    "dict1 = {'One':1,'Two':2, 'Three':3}\n",
    "dict2 = {'Four':4,'Five':5,'Six':6}"
   ]
  },
  {
   "cell_type": "code",
   "execution_count": 4,
   "id": "ed887530",
   "metadata": {},
   "outputs": [],
   "source": [
    "def SumDict (a: dict, b: dict) -> dict:\n",
    "    return a|b"
   ]
  },
  {
   "cell_type": "code",
   "execution_count": 5,
   "id": "31c8a36f",
   "metadata": {},
   "outputs": [
    {
     "data": {
      "text/plain": [
       "{'One': 1, 'Two': 2, 'Three': 3, 'Four': 4, 'Five': 5, 'Six': 6}"
      ]
     },
     "execution_count": 5,
     "metadata": {},
     "output_type": "execute_result"
    }
   ],
   "source": [
    "SumDict(dict1,dict2)"
   ]
  },
  {
   "cell_type": "code",
   "execution_count": 6,
   "id": "eebf4510",
   "metadata": {},
   "outputs": [],
   "source": [
    "dict1.update(dict2)"
   ]
  },
  {
   "cell_type": "code",
   "execution_count": 7,
   "id": "ca724970",
   "metadata": {},
   "outputs": [
    {
     "data": {
      "text/plain": [
       "{'One': 1, 'Two': 2, 'Three': 3, 'Four': 4, 'Five': 5, 'Six': 6}"
      ]
     },
     "execution_count": 7,
     "metadata": {},
     "output_type": "execute_result"
    }
   ],
   "source": [
    "dict1\n"
   ]
  },
  {
   "cell_type": "markdown",
   "id": "74e656eb",
   "metadata": {},
   "source": [
    "## Задание 2"
   ]
  },
  {
   "cell_type": "markdown",
   "id": "4e697127",
   "metadata": {},
   "source": [
    "### 2.1"
   ]
  },
  {
   "cell_type": "code",
   "execution_count": 13,
   "id": "ad3bb49b",
   "metadata": {},
   "outputs": [],
   "source": [
    "keys = ['One','Two','Three']\n",
    "value = [1,2,3]"
   ]
  },
  {
   "cell_type": "code",
   "execution_count": 9,
   "id": "33d94de3",
   "metadata": {},
   "outputs": [
    {
     "data": {
      "text/plain": [
       "{'One': 1, 'Two': 2, 'Three': 3}"
      ]
     },
     "execution_count": 9,
     "metadata": {},
     "output_type": "execute_result"
    }
   ],
   "source": [
    "newDict = {}\n",
    "for i in range(len(keys)):\n",
    "    newDict.update({keys[i]:value[i]})\n",
    "    \n",
    "newDict"
   ]
  },
  {
   "cell_type": "code",
   "execution_count": 11,
   "id": "be461899",
   "metadata": {},
   "outputs": [],
   "source": [
    "def f1(a:list,b:list)->dict:\n",
    "    return dict(zip(a,b))"
   ]
  },
  {
   "cell_type": "code",
   "execution_count": 12,
   "id": "900d50ae",
   "metadata": {},
   "outputs": [
    {
     "data": {
      "text/plain": [
       "{'One': 1, 'Two': 2, 'Three': 3}"
      ]
     },
     "execution_count": 12,
     "metadata": {},
     "output_type": "execute_result"
    }
   ],
   "source": [
    "f1(keys,value)"
   ]
  },
  {
   "cell_type": "code",
   "execution_count": 14,
   "id": "95b4e217",
   "metadata": {},
   "outputs": [
    {
     "data": {
      "text/plain": [
       "{'One': 1, 'Two': 2, 'Three': 3}"
      ]
     },
     "execution_count": 14,
     "metadata": {},
     "output_type": "execute_result"
    }
   ],
   "source": [
    "new_dict = {keys[i]: value[i] for i in range(len(keys))}\n",
    "new_dict"
   ]
  },
  {
   "cell_type": "markdown",
   "id": "5ef9a6cb",
   "metadata": {},
   "source": [
    "## List comprehension"
   ]
  },
  {
   "cell_type": "code",
   "execution_count": 22,
   "id": "e76b5aec",
   "metadata": {},
   "outputs": [],
   "source": [
    "a = list((1,2,3,4,5))"
   ]
  },
  {
   "cell_type": "code",
   "execution_count": 25,
   "id": "f6e3d773",
   "metadata": {},
   "outputs": [
    {
     "data": {
      "text/plain": [
       "[2, 4]"
      ]
     },
     "execution_count": 25,
     "metadata": {},
     "output_type": "execute_result"
    }
   ],
   "source": [
    "[i for i in a if i %2 == 0]"
   ]
  },
  {
   "cell_type": "markdown",
   "id": "0c973294",
   "metadata": {},
   "source": [
    "## Dict comprehension"
   ]
  },
  {
   "cell_type": "code",
   "execution_count": 27,
   "id": "62a98093",
   "metadata": {},
   "outputs": [
    {
     "data": {
      "text/plain": [
       "{1: 1, 2: 4, 3: 9, 4: 16, 5: 25}"
      ]
     },
     "execution_count": 27,
     "metadata": {},
     "output_type": "execute_result"
    }
   ],
   "source": [
    "{i:i**2 for i in a if i >0}"
   ]
  },
  {
   "cell_type": "markdown",
   "id": "3e264729",
   "metadata": {},
   "source": [
    "## Задание3"
   ]
  },
  {
   "cell_type": "markdown",
   "id": "db82ae28",
   "metadata": {},
   "source": [
    "### 3.1"
   ]
  },
  {
   "cell_type": "code",
   "execution_count": 44,
   "id": "337f19b0",
   "metadata": {},
   "outputs": [],
   "source": [
    "client_dict = {\"name\":\"John\",\"age\":25,\"salary\":5000,\"city\":\"Moscow\"}"
   ]
  },
  {
   "cell_type": "code",
   "execution_count": 37,
   "id": "25b18024",
   "metadata": {},
   "outputs": [],
   "source": [
    "def dict_key (dict1:dict,key1:list)-> dict:\n",
    "    return {key: value for (key,value) in dict1.items() if key in key1}"
   ]
  },
  {
   "cell_type": "code",
   "execution_count": 43,
   "id": "51bcdd9a",
   "metadata": {},
   "outputs": [
    {
     "data": {
      "text/plain": [
       "{'name': 'John', 'city': 'Moscow'}"
      ]
     },
     "execution_count": 43,
     "metadata": {},
     "output_type": "execute_result"
    }
   ],
   "source": [
    "dict_key(client_dict,[\"name\",\"city\"])"
   ]
  },
  {
   "cell_type": "code",
   "execution_count": 45,
   "id": "847a3b06",
   "metadata": {},
   "outputs": [],
   "source": [
    "def dict_key (dict1:dict,key1:list)-> dict:\n",
    "    new_dict = {}\n",
    "    for key in key1:\n",
    "        new_dict.update({key:dict1[key]})\n",
    "    return new_dict"
   ]
  },
  {
   "cell_type": "code",
   "execution_count": 46,
   "id": "2feeb949",
   "metadata": {},
   "outputs": [
    {
     "data": {
      "text/plain": [
       "{'name': 'John', 'salary': 5000}"
      ]
     },
     "execution_count": 46,
     "metadata": {},
     "output_type": "execute_result"
    }
   ],
   "source": [
    "dict_key(client_dict,[\"name\",\"salary\"])"
   ]
  },
  {
   "cell_type": "markdown",
   "id": "1e356773",
   "metadata": {},
   "source": [
    "## Задание 4"
   ]
  },
  {
   "cell_type": "markdown",
   "id": "ee009c57",
   "metadata": {},
   "source": [
    "### 4.1"
   ]
  },
  {
   "cell_type": "code",
   "execution_count": 49,
   "id": "eb17f269",
   "metadata": {},
   "outputs": [
    {
     "data": {
      "text/plain": [
       "[79, 32, 94, 45, 88]"
      ]
     },
     "execution_count": 49,
     "metadata": {},
     "output_type": "execute_result"
    }
   ],
   "source": [
    "from random import randint, seed\n",
    "seed(5)\n",
    "new_list = [randint(0,100) for _ in range(5)]\n",
    "new_list"
   ]
  },
  {
   "cell_type": "markdown",
   "id": "c483873f",
   "metadata": {},
   "source": [
    "## Задание5"
   ]
  },
  {
   "cell_type": "markdown",
   "id": "4ebcee4f",
   "metadata": {},
   "source": [
    "### 5.1"
   ]
  },
  {
   "cell_type": "code",
   "execution_count": 53,
   "id": "e8c7b405",
   "metadata": {},
   "outputs": [],
   "source": [
    "def sum_num(*args) -> dict:\n",
    "    if not args: return 0\n",
    "    return {'sum': sum(args), 'mean' :sum(args)/len(args)}"
   ]
  },
  {
   "cell_type": "code",
   "execution_count": 56,
   "id": "9c5cea06",
   "metadata": {},
   "outputs": [
    {
     "data": {
      "text/plain": [
       "{'sum': 886, 'mean': 221.5}"
      ]
     },
     "execution_count": 56,
     "metadata": {},
     "output_type": "execute_result"
    }
   ],
   "source": [
    "sum_num(145,255,41,445)"
   ]
  },
  {
   "cell_type": "code",
   "execution_count": null,
   "id": "83b04be0",
   "metadata": {},
   "outputs": [],
   "source": []
  }
 ],
 "metadata": {
  "kernelspec": {
   "display_name": "Python 3 (ipykernel)",
   "language": "python",
   "name": "python3"
  },
  "language_info": {
   "codemirror_mode": {
    "name": "ipython",
    "version": 3
   },
   "file_extension": ".py",
   "mimetype": "text/x-python",
   "name": "python",
   "nbconvert_exporter": "python",
   "pygments_lexer": "ipython3",
   "version": "3.9.12"
  }
 },
 "nbformat": 4,
 "nbformat_minor": 5
}
